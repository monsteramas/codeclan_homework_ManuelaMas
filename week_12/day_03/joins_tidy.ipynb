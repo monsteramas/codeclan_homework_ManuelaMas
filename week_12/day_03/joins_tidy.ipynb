{
 "cells": [
  {
   "cell_type": "markdown",
   "id": "cd54fa0c",
   "metadata": {},
   "source": [
    "## Question 1\n",
    "### Read in all 4 credit card transaction datasets and clean up the column names."
   ]
  },
  {
   "cell_type": "code",
   "execution_count": 1,
   "outputs": [],
   "source": [
    "import pandas as pd\n",
    "import numpy as np"
   ],
   "metadata": {
    "collapsed": false
   }
  },
  {
   "cell_type": "code",
   "execution_count": 16,
   "outputs": [],
   "source": [
    "card = pd.read_csv(\"data/CardBase.csv\")\n",
    "customer = pd.read_csv(\"data/CustomerBase.csv\")\n",
    "fraud = pd.read_csv(\"data/FraudBase.csv\")\n",
    "transaction = pd.read_csv(\"data/TransactionBase.csv\")"
   ],
   "metadata": {
    "collapsed": false
   }
  },
  {
   "cell_type": "code",
   "execution_count": 17,
   "outputs": [
    {
     "data": {
      "text/plain": "Index(['Cust_ID', 'Age', 'Customer_Segment', 'Customer_Vintage_Group'], dtype='object')"
     },
     "execution_count": 17,
     "metadata": {},
     "output_type": "execute_result"
    }
   ],
   "source": [
    "customer.columns"
   ],
   "metadata": {
    "collapsed": false
   }
  },
  {
   "cell_type": "code",
   "execution_count": 18,
   "outputs": [],
   "source": [
    "customer = customer.rename(str.lower, axis = \"columns\").copy()"
   ],
   "metadata": {
    "collapsed": false
   }
  },
  {
   "cell_type": "code",
   "execution_count": 19,
   "outputs": [
    {
     "data": {
      "text/plain": "Index(['Card_Number', 'Card_Family', 'Credit_Limit', 'Cust_ID'], dtype='object')"
     },
     "execution_count": 19,
     "metadata": {},
     "output_type": "execute_result"
    }
   ],
   "source": [
    "card.columns"
   ],
   "metadata": {
    "collapsed": false
   }
  },
  {
   "cell_type": "code",
   "execution_count": 20,
   "outputs": [],
   "source": [
    "card = card.rename(str.lower, axis = \"columns\").copy()"
   ],
   "metadata": {
    "collapsed": false
   }
  },
  {
   "cell_type": "code",
   "execution_count": 21,
   "outputs": [
    {
     "data": {
      "text/plain": "Index(['Transaction_ID', 'Fraud_Flag'], dtype='object')"
     },
     "execution_count": 21,
     "metadata": {},
     "output_type": "execute_result"
    }
   ],
   "source": [
    "fraud.columns"
   ],
   "metadata": {
    "collapsed": false
   }
  },
  {
   "cell_type": "code",
   "execution_count": 22,
   "outputs": [],
   "source": [
    "fraud = fraud.rename(str.lower, axis = \"columns\").copy()"
   ],
   "metadata": {
    "collapsed": false
   }
  },
  {
   "cell_type": "code",
   "execution_count": 23,
   "outputs": [
    {
     "data": {
      "text/plain": "Index(['Transaction_ID', 'Transaction_Date', 'Credit_Card_ID',\n       'Transaction_Value', 'Transaction_Segment'],\n      dtype='object')"
     },
     "execution_count": 23,
     "metadata": {},
     "output_type": "execute_result"
    }
   ],
   "source": [
    "transaction.columns"
   ],
   "metadata": {
    "collapsed": false
   }
  },
  {
   "cell_type": "code",
   "execution_count": 24,
   "outputs": [],
   "source": [
    "transaction = transaction.rename(str.lower, axis = \"columns\").copy()"
   ],
   "metadata": {
    "collapsed": false
   }
  },
  {
   "cell_type": "markdown",
   "source": [
    "## Question 2\n",
    "### Join the data containing card details and customer details by customer id, so that all records of card details and any matching records in customer details are kept."
   ],
   "metadata": {
    "collapsed": false
   }
  },
  {
   "cell_type": "code",
   "execution_count": 45,
   "outputs": [
    {
     "data": {
      "text/plain": "           card_number card_family  credit_limit  cust_id\n0  8638-5407-3631-8196     Premium        530000  CC67088\n1  7106-4239-7093-1515        Gold         18000  CC12076\n2  6492-5655-8241-3530     Premium        596000  CC97173\n3  2868-5606-5152-5706        Gold         27000  CC55858\n4  1438-6906-2509-8219    Platinum        142000  CC90518",
      "text/html": "<div>\n<style scoped>\n    .dataframe tbody tr th:only-of-type {\n        vertical-align: middle;\n    }\n\n    .dataframe tbody tr th {\n        vertical-align: top;\n    }\n\n    .dataframe thead th {\n        text-align: right;\n    }\n</style>\n<table border=\"1\" class=\"dataframe\">\n  <thead>\n    <tr style=\"text-align: right;\">\n      <th></th>\n      <th>card_number</th>\n      <th>card_family</th>\n      <th>credit_limit</th>\n      <th>cust_id</th>\n    </tr>\n  </thead>\n  <tbody>\n    <tr>\n      <th>0</th>\n      <td>8638-5407-3631-8196</td>\n      <td>Premium</td>\n      <td>530000</td>\n      <td>CC67088</td>\n    </tr>\n    <tr>\n      <th>1</th>\n      <td>7106-4239-7093-1515</td>\n      <td>Gold</td>\n      <td>18000</td>\n      <td>CC12076</td>\n    </tr>\n    <tr>\n      <th>2</th>\n      <td>6492-5655-8241-3530</td>\n      <td>Premium</td>\n      <td>596000</td>\n      <td>CC97173</td>\n    </tr>\n    <tr>\n      <th>3</th>\n      <td>2868-5606-5152-5706</td>\n      <td>Gold</td>\n      <td>27000</td>\n      <td>CC55858</td>\n    </tr>\n    <tr>\n      <th>4</th>\n      <td>1438-6906-2509-8219</td>\n      <td>Platinum</td>\n      <td>142000</td>\n      <td>CC90518</td>\n    </tr>\n  </tbody>\n</table>\n</div>"
     },
     "execution_count": 45,
     "metadata": {},
     "output_type": "execute_result"
    }
   ],
   "source": [
    "card.head()"
   ],
   "metadata": {
    "collapsed": false
   }
  },
  {
   "cell_type": "code",
   "execution_count": 46,
   "outputs": [
    {
     "data": {
      "text/plain": "(500, 4)"
     },
     "execution_count": 46,
     "metadata": {},
     "output_type": "execute_result"
    }
   ],
   "source": [
    "card.shape"
   ],
   "metadata": {
    "collapsed": false
   }
  },
  {
   "cell_type": "code",
   "execution_count": null,
   "outputs": [],
   "source": [],
   "metadata": {
    "collapsed": false
   }
  },
  {
   "cell_type": "code",
   "execution_count": 47,
   "outputs": [
    {
     "data": {
      "text/plain": "   cust_id  age customer_segment customer_vintage_group\n0  CC25034   35          Diamond                    VG1\n1  CC59625   22          Diamond                    VG1\n2  CC69314   33          Diamond                    VG1\n3  CC67036   46          Diamond                    VG1\n4  CC25597   44          Diamond                    VG1",
      "text/html": "<div>\n<style scoped>\n    .dataframe tbody tr th:only-of-type {\n        vertical-align: middle;\n    }\n\n    .dataframe tbody tr th {\n        vertical-align: top;\n    }\n\n    .dataframe thead th {\n        text-align: right;\n    }\n</style>\n<table border=\"1\" class=\"dataframe\">\n  <thead>\n    <tr style=\"text-align: right;\">\n      <th></th>\n      <th>cust_id</th>\n      <th>age</th>\n      <th>customer_segment</th>\n      <th>customer_vintage_group</th>\n    </tr>\n  </thead>\n  <tbody>\n    <tr>\n      <th>0</th>\n      <td>CC25034</td>\n      <td>35</td>\n      <td>Diamond</td>\n      <td>VG1</td>\n    </tr>\n    <tr>\n      <th>1</th>\n      <td>CC59625</td>\n      <td>22</td>\n      <td>Diamond</td>\n      <td>VG1</td>\n    </tr>\n    <tr>\n      <th>2</th>\n      <td>CC69314</td>\n      <td>33</td>\n      <td>Diamond</td>\n      <td>VG1</td>\n    </tr>\n    <tr>\n      <th>3</th>\n      <td>CC67036</td>\n      <td>46</td>\n      <td>Diamond</td>\n      <td>VG1</td>\n    </tr>\n    <tr>\n      <th>4</th>\n      <td>CC25597</td>\n      <td>44</td>\n      <td>Diamond</td>\n      <td>VG1</td>\n    </tr>\n  </tbody>\n</table>\n</div>"
     },
     "execution_count": 47,
     "metadata": {},
     "output_type": "execute_result"
    }
   ],
   "source": [
    "customer.head()"
   ],
   "metadata": {
    "collapsed": false
   }
  },
  {
   "cell_type": "code",
   "execution_count": 48,
   "outputs": [
    {
     "data": {
      "text/plain": "(5674, 4)"
     },
     "execution_count": 48,
     "metadata": {},
     "output_type": "execute_result"
    }
   ],
   "source": [
    "customer.shape"
   ],
   "metadata": {
    "collapsed": false
   }
  },
  {
   "cell_type": "code",
   "execution_count": 27,
   "outputs": [],
   "source": [
    "card_customer = card.merge(customer, how=\"left\", on=\"cust_id\")"
   ],
   "metadata": {
    "collapsed": false
   }
  },
  {
   "cell_type": "code",
   "execution_count": 28,
   "outputs": [
    {
     "data": {
      "text/plain": "             card_number card_family  credit_limit  cust_id  age  \\\n0    8638-5407-3631-8196     Premium        530000  CC67088   27   \n1    7106-4239-7093-1515        Gold         18000  CC12076   48   \n2    6492-5655-8241-3530     Premium        596000  CC97173   22   \n3    2868-5606-5152-5706        Gold         27000  CC55858   30   \n4    1438-6906-2509-8219    Platinum        142000  CC90518   50   \n..                   ...         ...           ...      ...  ...   \n495  4708-4407-9601-6022     Premium        691000  CC64993   34   \n496  6042-2856-7280-2925        Gold         33000  CC26787   46   \n497  8706-3809-5167-3899     Premium        144000  CC32532   28   \n498  9540-8558-5897-5046     Premium        830000  CC90246   35   \n499  5587-7265-8118-7718        Gold         24000  CC37803   21   \n\n    customer_segment customer_vintage_group  \n0            Diamond                    VG1  \n1               Gold                    VG3  \n2            Diamond                    VG1  \n3            Diamond                    VG1  \n4           Platinum                    VG2  \n..               ...                    ...  \n495          Diamond                    VG1  \n496         Platinum                    VG2  \n497         Platinum                    VG2  \n498             Gold                    VG3  \n499          Diamond                    VG1  \n\n[500 rows x 7 columns]",
      "text/html": "<div>\n<style scoped>\n    .dataframe tbody tr th:only-of-type {\n        vertical-align: middle;\n    }\n\n    .dataframe tbody tr th {\n        vertical-align: top;\n    }\n\n    .dataframe thead th {\n        text-align: right;\n    }\n</style>\n<table border=\"1\" class=\"dataframe\">\n  <thead>\n    <tr style=\"text-align: right;\">\n      <th></th>\n      <th>card_number</th>\n      <th>card_family</th>\n      <th>credit_limit</th>\n      <th>cust_id</th>\n      <th>age</th>\n      <th>customer_segment</th>\n      <th>customer_vintage_group</th>\n    </tr>\n  </thead>\n  <tbody>\n    <tr>\n      <th>0</th>\n      <td>8638-5407-3631-8196</td>\n      <td>Premium</td>\n      <td>530000</td>\n      <td>CC67088</td>\n      <td>27</td>\n      <td>Diamond</td>\n      <td>VG1</td>\n    </tr>\n    <tr>\n      <th>1</th>\n      <td>7106-4239-7093-1515</td>\n      <td>Gold</td>\n      <td>18000</td>\n      <td>CC12076</td>\n      <td>48</td>\n      <td>Gold</td>\n      <td>VG3</td>\n    </tr>\n    <tr>\n      <th>2</th>\n      <td>6492-5655-8241-3530</td>\n      <td>Premium</td>\n      <td>596000</td>\n      <td>CC97173</td>\n      <td>22</td>\n      <td>Diamond</td>\n      <td>VG1</td>\n    </tr>\n    <tr>\n      <th>3</th>\n      <td>2868-5606-5152-5706</td>\n      <td>Gold</td>\n      <td>27000</td>\n      <td>CC55858</td>\n      <td>30</td>\n      <td>Diamond</td>\n      <td>VG1</td>\n    </tr>\n    <tr>\n      <th>4</th>\n      <td>1438-6906-2509-8219</td>\n      <td>Platinum</td>\n      <td>142000</td>\n      <td>CC90518</td>\n      <td>50</td>\n      <td>Platinum</td>\n      <td>VG2</td>\n    </tr>\n    <tr>\n      <th>...</th>\n      <td>...</td>\n      <td>...</td>\n      <td>...</td>\n      <td>...</td>\n      <td>...</td>\n      <td>...</td>\n      <td>...</td>\n    </tr>\n    <tr>\n      <th>495</th>\n      <td>4708-4407-9601-6022</td>\n      <td>Premium</td>\n      <td>691000</td>\n      <td>CC64993</td>\n      <td>34</td>\n      <td>Diamond</td>\n      <td>VG1</td>\n    </tr>\n    <tr>\n      <th>496</th>\n      <td>6042-2856-7280-2925</td>\n      <td>Gold</td>\n      <td>33000</td>\n      <td>CC26787</td>\n      <td>46</td>\n      <td>Platinum</td>\n      <td>VG2</td>\n    </tr>\n    <tr>\n      <th>497</th>\n      <td>8706-3809-5167-3899</td>\n      <td>Premium</td>\n      <td>144000</td>\n      <td>CC32532</td>\n      <td>28</td>\n      <td>Platinum</td>\n      <td>VG2</td>\n    </tr>\n    <tr>\n      <th>498</th>\n      <td>9540-8558-5897-5046</td>\n      <td>Premium</td>\n      <td>830000</td>\n      <td>CC90246</td>\n      <td>35</td>\n      <td>Gold</td>\n      <td>VG3</td>\n    </tr>\n    <tr>\n      <th>499</th>\n      <td>5587-7265-8118-7718</td>\n      <td>Gold</td>\n      <td>24000</td>\n      <td>CC37803</td>\n      <td>21</td>\n      <td>Diamond</td>\n      <td>VG1</td>\n    </tr>\n  </tbody>\n</table>\n<p>500 rows × 7 columns</p>\n</div>"
     },
     "execution_count": 28,
     "metadata": {},
     "output_type": "execute_result"
    }
   ],
   "source": [
    "card_customer"
   ],
   "metadata": {
    "collapsed": false
   }
  },
  {
   "cell_type": "markdown",
   "source": [
    "## Question 3\n",
    "### Join the data containing fraud details with transaction details so all rows of both tables are kept. What does the resulting row number tell you?"
   ],
   "metadata": {
    "collapsed": false
   }
  },
  {
   "cell_type": "code",
   "execution_count": 43,
   "outputs": [
    {
     "data": {
      "text/plain": "  transaction_id  fraud_flag\n0   CTID50558449           1\n1   CTID55936882           1\n2   CTID63762180           1\n3   CTID76723439           1\n4   CTID21246201           1",
      "text/html": "<div>\n<style scoped>\n    .dataframe tbody tr th:only-of-type {\n        vertical-align: middle;\n    }\n\n    .dataframe tbody tr th {\n        vertical-align: top;\n    }\n\n    .dataframe thead th {\n        text-align: right;\n    }\n</style>\n<table border=\"1\" class=\"dataframe\">\n  <thead>\n    <tr style=\"text-align: right;\">\n      <th></th>\n      <th>transaction_id</th>\n      <th>fraud_flag</th>\n    </tr>\n  </thead>\n  <tbody>\n    <tr>\n      <th>0</th>\n      <td>CTID50558449</td>\n      <td>1</td>\n    </tr>\n    <tr>\n      <th>1</th>\n      <td>CTID55936882</td>\n      <td>1</td>\n    </tr>\n    <tr>\n      <th>2</th>\n      <td>CTID63762180</td>\n      <td>1</td>\n    </tr>\n    <tr>\n      <th>3</th>\n      <td>CTID76723439</td>\n      <td>1</td>\n    </tr>\n    <tr>\n      <th>4</th>\n      <td>CTID21246201</td>\n      <td>1</td>\n    </tr>\n  </tbody>\n</table>\n</div>"
     },
     "execution_count": 43,
     "metadata": {},
     "output_type": "execute_result"
    }
   ],
   "source": [
    "fraud.head()"
   ],
   "metadata": {
    "collapsed": false
   }
  },
  {
   "cell_type": "code",
   "execution_count": 42,
   "outputs": [
    {
     "data": {
      "text/plain": "(109, 2)"
     },
     "execution_count": 42,
     "metadata": {},
     "output_type": "execute_result"
    }
   ],
   "source": [
    "fraud.shape"
   ],
   "metadata": {
    "collapsed": false
   }
  },
  {
   "cell_type": "code",
   "execution_count": 44,
   "outputs": [
    {
     "data": {
      "text/plain": "  transaction_id transaction_date       credit_card_id  transaction_value  \\\n0   CTID28830551        24-Apr-16  1629-9566-3285-2123              23649   \n1   CTID45504917        11-Feb-16  3697-6001-4909-5350              26726   \n2   CTID47312290         1-Nov-16  5864-4475-3659-1440              22012   \n3   CTID25637718        28-Jan-16  5991-4421-8476-3804              37637   \n4   CTID66743960        17-Mar-16  1893-8853-9900-8478               5113   \n\n  transaction_segment  \n0               SEG25  \n1               SEG16  \n2               SEG14  \n3               SEG17  \n4               SEG14  ",
      "text/html": "<div>\n<style scoped>\n    .dataframe tbody tr th:only-of-type {\n        vertical-align: middle;\n    }\n\n    .dataframe tbody tr th {\n        vertical-align: top;\n    }\n\n    .dataframe thead th {\n        text-align: right;\n    }\n</style>\n<table border=\"1\" class=\"dataframe\">\n  <thead>\n    <tr style=\"text-align: right;\">\n      <th></th>\n      <th>transaction_id</th>\n      <th>transaction_date</th>\n      <th>credit_card_id</th>\n      <th>transaction_value</th>\n      <th>transaction_segment</th>\n    </tr>\n  </thead>\n  <tbody>\n    <tr>\n      <th>0</th>\n      <td>CTID28830551</td>\n      <td>24-Apr-16</td>\n      <td>1629-9566-3285-2123</td>\n      <td>23649</td>\n      <td>SEG25</td>\n    </tr>\n    <tr>\n      <th>1</th>\n      <td>CTID45504917</td>\n      <td>11-Feb-16</td>\n      <td>3697-6001-4909-5350</td>\n      <td>26726</td>\n      <td>SEG16</td>\n    </tr>\n    <tr>\n      <th>2</th>\n      <td>CTID47312290</td>\n      <td>1-Nov-16</td>\n      <td>5864-4475-3659-1440</td>\n      <td>22012</td>\n      <td>SEG14</td>\n    </tr>\n    <tr>\n      <th>3</th>\n      <td>CTID25637718</td>\n      <td>28-Jan-16</td>\n      <td>5991-4421-8476-3804</td>\n      <td>37637</td>\n      <td>SEG17</td>\n    </tr>\n    <tr>\n      <th>4</th>\n      <td>CTID66743960</td>\n      <td>17-Mar-16</td>\n      <td>1893-8853-9900-8478</td>\n      <td>5113</td>\n      <td>SEG14</td>\n    </tr>\n  </tbody>\n</table>\n</div>"
     },
     "execution_count": 44,
     "metadata": {},
     "output_type": "execute_result"
    }
   ],
   "source": [
    "transaction.head()"
   ],
   "metadata": {
    "collapsed": false
   }
  },
  {
   "cell_type": "code",
   "execution_count": 41,
   "outputs": [
    {
     "data": {
      "text/plain": "(10000, 5)"
     },
     "execution_count": 41,
     "metadata": {},
     "output_type": "execute_result"
    }
   ],
   "source": [
    "transaction.shape"
   ],
   "metadata": {
    "collapsed": false
   }
  },
  {
   "cell_type": "code",
   "execution_count": 39,
   "outputs": [],
   "source": [
    "transaction_fraud = transaction.merge(fraud, how=\"left\", on=\"transaction_id\")"
   ],
   "metadata": {
    "collapsed": false
   }
  },
  {
   "cell_type": "code",
   "execution_count": 40,
   "outputs": [
    {
     "data": {
      "text/plain": "     transaction_id transaction_date       credit_card_id  transaction_value  \\\n0      CTID28830551        24-Apr-16  1629-9566-3285-2123              23649   \n1      CTID45504917        11-Feb-16  3697-6001-4909-5350              26726   \n2      CTID47312290         1-Nov-16  5864-4475-3659-1440              22012   \n3      CTID25637718        28-Jan-16  5991-4421-8476-3804              37637   \n4      CTID66743960        17-Mar-16  1893-8853-9900-8478               5113   \n...             ...              ...                  ...                ...   \n9995   CTID25037573        10-Jun-16  9157-2802-8374-1145              44280   \n9996   CTID43832298        23-May-16  7416-4529-6690-5703              27163   \n9997   CTID56532072         6-Aug-16  6699-2639-4522-6219              36424   \n9998   CTID88101446        10-Oct-16  8341-5263-4582-7396               8464   \n9999   CTID64730271        18-Jun-16  1947-8602-1695-7503               7606   \n\n     transaction_segment  fraud_flag  \n0                  SEG25         NaN  \n1                  SEG16         NaN  \n2                  SEG14         NaN  \n3                  SEG17         NaN  \n4                  SEG14         NaN  \n...                  ...         ...  \n9995               SEG18         NaN  \n9996               SEG12         NaN  \n9997               SEG13         NaN  \n9998               SEG14         NaN  \n9999               SEG15         NaN  \n\n[10000 rows x 6 columns]",
      "text/html": "<div>\n<style scoped>\n    .dataframe tbody tr th:only-of-type {\n        vertical-align: middle;\n    }\n\n    .dataframe tbody tr th {\n        vertical-align: top;\n    }\n\n    .dataframe thead th {\n        text-align: right;\n    }\n</style>\n<table border=\"1\" class=\"dataframe\">\n  <thead>\n    <tr style=\"text-align: right;\">\n      <th></th>\n      <th>transaction_id</th>\n      <th>transaction_date</th>\n      <th>credit_card_id</th>\n      <th>transaction_value</th>\n      <th>transaction_segment</th>\n      <th>fraud_flag</th>\n    </tr>\n  </thead>\n  <tbody>\n    <tr>\n      <th>0</th>\n      <td>CTID28830551</td>\n      <td>24-Apr-16</td>\n      <td>1629-9566-3285-2123</td>\n      <td>23649</td>\n      <td>SEG25</td>\n      <td>NaN</td>\n    </tr>\n    <tr>\n      <th>1</th>\n      <td>CTID45504917</td>\n      <td>11-Feb-16</td>\n      <td>3697-6001-4909-5350</td>\n      <td>26726</td>\n      <td>SEG16</td>\n      <td>NaN</td>\n    </tr>\n    <tr>\n      <th>2</th>\n      <td>CTID47312290</td>\n      <td>1-Nov-16</td>\n      <td>5864-4475-3659-1440</td>\n      <td>22012</td>\n      <td>SEG14</td>\n      <td>NaN</td>\n    </tr>\n    <tr>\n      <th>3</th>\n      <td>CTID25637718</td>\n      <td>28-Jan-16</td>\n      <td>5991-4421-8476-3804</td>\n      <td>37637</td>\n      <td>SEG17</td>\n      <td>NaN</td>\n    </tr>\n    <tr>\n      <th>4</th>\n      <td>CTID66743960</td>\n      <td>17-Mar-16</td>\n      <td>1893-8853-9900-8478</td>\n      <td>5113</td>\n      <td>SEG14</td>\n      <td>NaN</td>\n    </tr>\n    <tr>\n      <th>...</th>\n      <td>...</td>\n      <td>...</td>\n      <td>...</td>\n      <td>...</td>\n      <td>...</td>\n      <td>...</td>\n    </tr>\n    <tr>\n      <th>9995</th>\n      <td>CTID25037573</td>\n      <td>10-Jun-16</td>\n      <td>9157-2802-8374-1145</td>\n      <td>44280</td>\n      <td>SEG18</td>\n      <td>NaN</td>\n    </tr>\n    <tr>\n      <th>9996</th>\n      <td>CTID43832298</td>\n      <td>23-May-16</td>\n      <td>7416-4529-6690-5703</td>\n      <td>27163</td>\n      <td>SEG12</td>\n      <td>NaN</td>\n    </tr>\n    <tr>\n      <th>9997</th>\n      <td>CTID56532072</td>\n      <td>6-Aug-16</td>\n      <td>6699-2639-4522-6219</td>\n      <td>36424</td>\n      <td>SEG13</td>\n      <td>NaN</td>\n    </tr>\n    <tr>\n      <th>9998</th>\n      <td>CTID88101446</td>\n      <td>10-Oct-16</td>\n      <td>8341-5263-4582-7396</td>\n      <td>8464</td>\n      <td>SEG14</td>\n      <td>NaN</td>\n    </tr>\n    <tr>\n      <th>9999</th>\n      <td>CTID64730271</td>\n      <td>18-Jun-16</td>\n      <td>1947-8602-1695-7503</td>\n      <td>7606</td>\n      <td>SEG15</td>\n      <td>NaN</td>\n    </tr>\n  </tbody>\n</table>\n<p>10000 rows × 6 columns</p>\n</div>"
     },
     "execution_count": 40,
     "metadata": {},
     "output_type": "execute_result"
    }
   ],
   "source": [
    "transaction_fraud"
   ],
   "metadata": {
    "collapsed": false
   }
  },
  {
   "cell_type": "markdown",
   "source": [
    "## Question 4\n",
    "### [Harder] Join the data containing card details with transaction details so rows from the first which have matching ones in the second are returned.\n",
    "\n",
    "### Hint: semi is not an allowed option for how in .merge(). You'll need to think about the process of a semi join and then perform each step."
   ],
   "metadata": {
    "collapsed": false
   }
  },
  {
   "cell_type": "code",
   "execution_count": 54,
   "outputs": [
    {
     "data": {
      "text/plain": "             card_number card_family  credit_limit  cust_id\n0    8638-5407-3631-8196     Premium        530000  CC67088\n1    7106-4239-7093-1515        Gold         18000  CC12076\n2    6492-5655-8241-3530     Premium        596000  CC97173\n3    2868-5606-5152-5706        Gold         27000  CC55858\n4    1438-6906-2509-8219    Platinum        142000  CC90518\n..                   ...         ...           ...      ...\n495  4708-4407-9601-6022     Premium        691000  CC64993\n496  6042-2856-7280-2925        Gold         33000  CC26787\n497  8706-3809-5167-3899     Premium        144000  CC32532\n498  9540-8558-5897-5046     Premium        830000  CC90246\n499  5587-7265-8118-7718        Gold         24000  CC37803\n\n[500 rows x 4 columns]",
      "text/html": "<div>\n<style scoped>\n    .dataframe tbody tr th:only-of-type {\n        vertical-align: middle;\n    }\n\n    .dataframe tbody tr th {\n        vertical-align: top;\n    }\n\n    .dataframe thead th {\n        text-align: right;\n    }\n</style>\n<table border=\"1\" class=\"dataframe\">\n  <thead>\n    <tr style=\"text-align: right;\">\n      <th></th>\n      <th>card_number</th>\n      <th>card_family</th>\n      <th>credit_limit</th>\n      <th>cust_id</th>\n    </tr>\n  </thead>\n  <tbody>\n    <tr>\n      <th>0</th>\n      <td>8638-5407-3631-8196</td>\n      <td>Premium</td>\n      <td>530000</td>\n      <td>CC67088</td>\n    </tr>\n    <tr>\n      <th>1</th>\n      <td>7106-4239-7093-1515</td>\n      <td>Gold</td>\n      <td>18000</td>\n      <td>CC12076</td>\n    </tr>\n    <tr>\n      <th>2</th>\n      <td>6492-5655-8241-3530</td>\n      <td>Premium</td>\n      <td>596000</td>\n      <td>CC97173</td>\n    </tr>\n    <tr>\n      <th>3</th>\n      <td>2868-5606-5152-5706</td>\n      <td>Gold</td>\n      <td>27000</td>\n      <td>CC55858</td>\n    </tr>\n    <tr>\n      <th>4</th>\n      <td>1438-6906-2509-8219</td>\n      <td>Platinum</td>\n      <td>142000</td>\n      <td>CC90518</td>\n    </tr>\n    <tr>\n      <th>...</th>\n      <td>...</td>\n      <td>...</td>\n      <td>...</td>\n      <td>...</td>\n    </tr>\n    <tr>\n      <th>495</th>\n      <td>4708-4407-9601-6022</td>\n      <td>Premium</td>\n      <td>691000</td>\n      <td>CC64993</td>\n    </tr>\n    <tr>\n      <th>496</th>\n      <td>6042-2856-7280-2925</td>\n      <td>Gold</td>\n      <td>33000</td>\n      <td>CC26787</td>\n    </tr>\n    <tr>\n      <th>497</th>\n      <td>8706-3809-5167-3899</td>\n      <td>Premium</td>\n      <td>144000</td>\n      <td>CC32532</td>\n    </tr>\n    <tr>\n      <th>498</th>\n      <td>9540-8558-5897-5046</td>\n      <td>Premium</td>\n      <td>830000</td>\n      <td>CC90246</td>\n    </tr>\n    <tr>\n      <th>499</th>\n      <td>5587-7265-8118-7718</td>\n      <td>Gold</td>\n      <td>24000</td>\n      <td>CC37803</td>\n    </tr>\n  </tbody>\n</table>\n<p>500 rows × 4 columns</p>\n</div>"
     },
     "execution_count": 54,
     "metadata": {},
     "output_type": "execute_result"
    }
   ],
   "source": [
    "card"
   ],
   "metadata": {
    "collapsed": false
   }
  },
  {
   "cell_type": "code",
   "execution_count": 50,
   "outputs": [
    {
     "data": {
      "text/plain": "     transaction_id transaction_date       credit_card_id  transaction_value  \\\n0      CTID28830551        24-Apr-16  1629-9566-3285-2123              23649   \n1      CTID45504917        11-Feb-16  3697-6001-4909-5350              26726   \n2      CTID47312290         1-Nov-16  5864-4475-3659-1440              22012   \n3      CTID25637718        28-Jan-16  5991-4421-8476-3804              37637   \n4      CTID66743960        17-Mar-16  1893-8853-9900-8478               5113   \n...             ...              ...                  ...                ...   \n9995   CTID25037573        10-Jun-16  9157-2802-8374-1145              44280   \n9996   CTID43832298        23-May-16  7416-4529-6690-5703              27163   \n9997   CTID56532072         6-Aug-16  6699-2639-4522-6219              36424   \n9998   CTID88101446        10-Oct-16  8341-5263-4582-7396               8464   \n9999   CTID64730271        18-Jun-16  1947-8602-1695-7503               7606   \n\n     transaction_segment  \n0                  SEG25  \n1                  SEG16  \n2                  SEG14  \n3                  SEG17  \n4                  SEG14  \n...                  ...  \n9995               SEG18  \n9996               SEG12  \n9997               SEG13  \n9998               SEG14  \n9999               SEG15  \n\n[10000 rows x 5 columns]",
      "text/html": "<div>\n<style scoped>\n    .dataframe tbody tr th:only-of-type {\n        vertical-align: middle;\n    }\n\n    .dataframe tbody tr th {\n        vertical-align: top;\n    }\n\n    .dataframe thead th {\n        text-align: right;\n    }\n</style>\n<table border=\"1\" class=\"dataframe\">\n  <thead>\n    <tr style=\"text-align: right;\">\n      <th></th>\n      <th>transaction_id</th>\n      <th>transaction_date</th>\n      <th>credit_card_id</th>\n      <th>transaction_value</th>\n      <th>transaction_segment</th>\n    </tr>\n  </thead>\n  <tbody>\n    <tr>\n      <th>0</th>\n      <td>CTID28830551</td>\n      <td>24-Apr-16</td>\n      <td>1629-9566-3285-2123</td>\n      <td>23649</td>\n      <td>SEG25</td>\n    </tr>\n    <tr>\n      <th>1</th>\n      <td>CTID45504917</td>\n      <td>11-Feb-16</td>\n      <td>3697-6001-4909-5350</td>\n      <td>26726</td>\n      <td>SEG16</td>\n    </tr>\n    <tr>\n      <th>2</th>\n      <td>CTID47312290</td>\n      <td>1-Nov-16</td>\n      <td>5864-4475-3659-1440</td>\n      <td>22012</td>\n      <td>SEG14</td>\n    </tr>\n    <tr>\n      <th>3</th>\n      <td>CTID25637718</td>\n      <td>28-Jan-16</td>\n      <td>5991-4421-8476-3804</td>\n      <td>37637</td>\n      <td>SEG17</td>\n    </tr>\n    <tr>\n      <th>4</th>\n      <td>CTID66743960</td>\n      <td>17-Mar-16</td>\n      <td>1893-8853-9900-8478</td>\n      <td>5113</td>\n      <td>SEG14</td>\n    </tr>\n    <tr>\n      <th>...</th>\n      <td>...</td>\n      <td>...</td>\n      <td>...</td>\n      <td>...</td>\n      <td>...</td>\n    </tr>\n    <tr>\n      <th>9995</th>\n      <td>CTID25037573</td>\n      <td>10-Jun-16</td>\n      <td>9157-2802-8374-1145</td>\n      <td>44280</td>\n      <td>SEG18</td>\n    </tr>\n    <tr>\n      <th>9996</th>\n      <td>CTID43832298</td>\n      <td>23-May-16</td>\n      <td>7416-4529-6690-5703</td>\n      <td>27163</td>\n      <td>SEG12</td>\n    </tr>\n    <tr>\n      <th>9997</th>\n      <td>CTID56532072</td>\n      <td>6-Aug-16</td>\n      <td>6699-2639-4522-6219</td>\n      <td>36424</td>\n      <td>SEG13</td>\n    </tr>\n    <tr>\n      <th>9998</th>\n      <td>CTID88101446</td>\n      <td>10-Oct-16</td>\n      <td>8341-5263-4582-7396</td>\n      <td>8464</td>\n      <td>SEG14</td>\n    </tr>\n    <tr>\n      <th>9999</th>\n      <td>CTID64730271</td>\n      <td>18-Jun-16</td>\n      <td>1947-8602-1695-7503</td>\n      <td>7606</td>\n      <td>SEG15</td>\n    </tr>\n  </tbody>\n</table>\n<p>10000 rows × 5 columns</p>\n</div>"
     },
     "execution_count": 50,
     "metadata": {},
     "output_type": "execute_result"
    }
   ],
   "source": [
    "transaction"
   ],
   "metadata": {
    "collapsed": false
   }
  },
  {
   "cell_type": "code",
   "execution_count": 60,
   "outputs": [
    {
     "data": {
      "text/plain": "              card_number card_family  credit_limit  cust_id transaction_id  \\\n0     8638-5407-3631-8196     Premium        530000  CC67088   CTID85973577   \n1     8638-5407-3631-8196     Premium        530000  CC67088   CTID13215166   \n2     8638-5407-3631-8196     Premium        530000  CC67088   CTID41016745   \n3     8638-5407-3631-8196     Premium        530000  CC67088   CTID82512584   \n4     8638-5407-3631-8196     Premium        530000  CC67088   CTID97222954   \n...                   ...         ...           ...      ...            ...   \n9995  5587-7265-8118-7718        Gold         24000  CC37803   CTID76550379   \n9996  5587-7265-8118-7718        Gold         24000  CC37803   CTID58221219   \n9997  5587-7265-8118-7718        Gold         24000  CC37803   CTID73252195   \n9998  5587-7265-8118-7718        Gold         24000  CC37803   CTID72271256   \n9999  5587-7265-8118-7718        Gold         24000  CC37803   CTID81265917   \n\n     transaction_date       credit_card_id  transaction_value  \\\n0           13-Feb-16  8638-5407-3631-8196              31592   \n1           30-Oct-16  8638-5407-3631-8196               5894   \n2            9-May-16  8638-5407-3631-8196              20925   \n3           31-Aug-16  8638-5407-3631-8196              36556   \n4           25-Nov-16  8638-5407-3631-8196              36715   \n...               ...                  ...                ...   \n9995        11-Oct-16  5587-7265-8118-7718              23298   \n9996        12-Jan-16  5587-7265-8118-7718              49957   \n9997         8-Dec-16  5587-7265-8118-7718              13508   \n9998         5-Feb-16  5587-7265-8118-7718                624   \n9999         5-Apr-16  5587-7265-8118-7718              14019   \n\n     transaction_segment  \n0                  SEG21  \n1                  SEG12  \n2                  SEG11  \n3                  SEG11  \n4                  SEG18  \n...                  ...  \n9995               SEG15  \n9996               SEG18  \n9997               SEG25  \n9998               SEG24  \n9999               SEG13  \n\n[10000 rows x 9 columns]",
      "text/html": "<div>\n<style scoped>\n    .dataframe tbody tr th:only-of-type {\n        vertical-align: middle;\n    }\n\n    .dataframe tbody tr th {\n        vertical-align: top;\n    }\n\n    .dataframe thead th {\n        text-align: right;\n    }\n</style>\n<table border=\"1\" class=\"dataframe\">\n  <thead>\n    <tr style=\"text-align: right;\">\n      <th></th>\n      <th>card_number</th>\n      <th>card_family</th>\n      <th>credit_limit</th>\n      <th>cust_id</th>\n      <th>transaction_id</th>\n      <th>transaction_date</th>\n      <th>credit_card_id</th>\n      <th>transaction_value</th>\n      <th>transaction_segment</th>\n    </tr>\n  </thead>\n  <tbody>\n    <tr>\n      <th>0</th>\n      <td>8638-5407-3631-8196</td>\n      <td>Premium</td>\n      <td>530000</td>\n      <td>CC67088</td>\n      <td>CTID85973577</td>\n      <td>13-Feb-16</td>\n      <td>8638-5407-3631-8196</td>\n      <td>31592</td>\n      <td>SEG21</td>\n    </tr>\n    <tr>\n      <th>1</th>\n      <td>8638-5407-3631-8196</td>\n      <td>Premium</td>\n      <td>530000</td>\n      <td>CC67088</td>\n      <td>CTID13215166</td>\n      <td>30-Oct-16</td>\n      <td>8638-5407-3631-8196</td>\n      <td>5894</td>\n      <td>SEG12</td>\n    </tr>\n    <tr>\n      <th>2</th>\n      <td>8638-5407-3631-8196</td>\n      <td>Premium</td>\n      <td>530000</td>\n      <td>CC67088</td>\n      <td>CTID41016745</td>\n      <td>9-May-16</td>\n      <td>8638-5407-3631-8196</td>\n      <td>20925</td>\n      <td>SEG11</td>\n    </tr>\n    <tr>\n      <th>3</th>\n      <td>8638-5407-3631-8196</td>\n      <td>Premium</td>\n      <td>530000</td>\n      <td>CC67088</td>\n      <td>CTID82512584</td>\n      <td>31-Aug-16</td>\n      <td>8638-5407-3631-8196</td>\n      <td>36556</td>\n      <td>SEG11</td>\n    </tr>\n    <tr>\n      <th>4</th>\n      <td>8638-5407-3631-8196</td>\n      <td>Premium</td>\n      <td>530000</td>\n      <td>CC67088</td>\n      <td>CTID97222954</td>\n      <td>25-Nov-16</td>\n      <td>8638-5407-3631-8196</td>\n      <td>36715</td>\n      <td>SEG18</td>\n    </tr>\n    <tr>\n      <th>...</th>\n      <td>...</td>\n      <td>...</td>\n      <td>...</td>\n      <td>...</td>\n      <td>...</td>\n      <td>...</td>\n      <td>...</td>\n      <td>...</td>\n      <td>...</td>\n    </tr>\n    <tr>\n      <th>9995</th>\n      <td>5587-7265-8118-7718</td>\n      <td>Gold</td>\n      <td>24000</td>\n      <td>CC37803</td>\n      <td>CTID76550379</td>\n      <td>11-Oct-16</td>\n      <td>5587-7265-8118-7718</td>\n      <td>23298</td>\n      <td>SEG15</td>\n    </tr>\n    <tr>\n      <th>9996</th>\n      <td>5587-7265-8118-7718</td>\n      <td>Gold</td>\n      <td>24000</td>\n      <td>CC37803</td>\n      <td>CTID58221219</td>\n      <td>12-Jan-16</td>\n      <td>5587-7265-8118-7718</td>\n      <td>49957</td>\n      <td>SEG18</td>\n    </tr>\n    <tr>\n      <th>9997</th>\n      <td>5587-7265-8118-7718</td>\n      <td>Gold</td>\n      <td>24000</td>\n      <td>CC37803</td>\n      <td>CTID73252195</td>\n      <td>8-Dec-16</td>\n      <td>5587-7265-8118-7718</td>\n      <td>13508</td>\n      <td>SEG25</td>\n    </tr>\n    <tr>\n      <th>9998</th>\n      <td>5587-7265-8118-7718</td>\n      <td>Gold</td>\n      <td>24000</td>\n      <td>CC37803</td>\n      <td>CTID72271256</td>\n      <td>5-Feb-16</td>\n      <td>5587-7265-8118-7718</td>\n      <td>624</td>\n      <td>SEG24</td>\n    </tr>\n    <tr>\n      <th>9999</th>\n      <td>5587-7265-8118-7718</td>\n      <td>Gold</td>\n      <td>24000</td>\n      <td>CC37803</td>\n      <td>CTID81265917</td>\n      <td>5-Apr-16</td>\n      <td>5587-7265-8118-7718</td>\n      <td>14019</td>\n      <td>SEG13</td>\n    </tr>\n  </tbody>\n</table>\n<p>10000 rows × 9 columns</p>\n</div>"
     },
     "execution_count": 60,
     "metadata": {},
     "output_type": "execute_result"
    }
   ],
   "source": [
    "# Perform an inner join to find common card_number\n",
    "semi_table = card.merge(transaction, how=\"inner\", left_on=\"card_number\", right_on=\"credit_card_id\")\n",
    "semi_table"
   ],
   "metadata": {
    "collapsed": false
   }
  },
  {
   "cell_type": "code",
   "execution_count": 58,
   "outputs": [
    {
     "data": {
      "text/plain": "0      True\n1      True\n2      True\n3      True\n4      True\n       ... \n495    True\n496    True\n497    True\n498    True\n499    True\nName: card_number, Length: 500, dtype: bool"
     },
     "execution_count": 58,
     "metadata": {},
     "output_type": "execute_result"
    }
   ],
   "source": [
    "# Create a boolean series\n",
    "in_both = card[\"card_number\"].isin(semi_table[\"card_number\"])\n",
    "in_both\n",
    "# It seems all cards have been used at least for one transaction since I get 500 rows returned"
   ],
   "metadata": {
    "collapsed": false
   }
  },
  {
   "cell_type": "code",
   "execution_count": 61,
   "outputs": [
    {
     "data": {
      "text/plain": "             card_number card_family  credit_limit  cust_id\n0    8638-5407-3631-8196     Premium        530000  CC67088\n1    7106-4239-7093-1515        Gold         18000  CC12076\n2    6492-5655-8241-3530     Premium        596000  CC97173\n3    2868-5606-5152-5706        Gold         27000  CC55858\n4    1438-6906-2509-8219    Platinum        142000  CC90518\n..                   ...         ...           ...      ...\n495  4708-4407-9601-6022     Premium        691000  CC64993\n496  6042-2856-7280-2925        Gold         33000  CC26787\n497  8706-3809-5167-3899     Premium        144000  CC32532\n498  9540-8558-5897-5046     Premium        830000  CC90246\n499  5587-7265-8118-7718        Gold         24000  CC37803\n\n[500 rows x 4 columns]",
      "text/html": "<div>\n<style scoped>\n    .dataframe tbody tr th:only-of-type {\n        vertical-align: middle;\n    }\n\n    .dataframe tbody tr th {\n        vertical-align: top;\n    }\n\n    .dataframe thead th {\n        text-align: right;\n    }\n</style>\n<table border=\"1\" class=\"dataframe\">\n  <thead>\n    <tr style=\"text-align: right;\">\n      <th></th>\n      <th>card_number</th>\n      <th>card_family</th>\n      <th>credit_limit</th>\n      <th>cust_id</th>\n    </tr>\n  </thead>\n  <tbody>\n    <tr>\n      <th>0</th>\n      <td>8638-5407-3631-8196</td>\n      <td>Premium</td>\n      <td>530000</td>\n      <td>CC67088</td>\n    </tr>\n    <tr>\n      <th>1</th>\n      <td>7106-4239-7093-1515</td>\n      <td>Gold</td>\n      <td>18000</td>\n      <td>CC12076</td>\n    </tr>\n    <tr>\n      <th>2</th>\n      <td>6492-5655-8241-3530</td>\n      <td>Premium</td>\n      <td>596000</td>\n      <td>CC97173</td>\n    </tr>\n    <tr>\n      <th>3</th>\n      <td>2868-5606-5152-5706</td>\n      <td>Gold</td>\n      <td>27000</td>\n      <td>CC55858</td>\n    </tr>\n    <tr>\n      <th>4</th>\n      <td>1438-6906-2509-8219</td>\n      <td>Platinum</td>\n      <td>142000</td>\n      <td>CC90518</td>\n    </tr>\n    <tr>\n      <th>...</th>\n      <td>...</td>\n      <td>...</td>\n      <td>...</td>\n      <td>...</td>\n    </tr>\n    <tr>\n      <th>495</th>\n      <td>4708-4407-9601-6022</td>\n      <td>Premium</td>\n      <td>691000</td>\n      <td>CC64993</td>\n    </tr>\n    <tr>\n      <th>496</th>\n      <td>6042-2856-7280-2925</td>\n      <td>Gold</td>\n      <td>33000</td>\n      <td>CC26787</td>\n    </tr>\n    <tr>\n      <th>497</th>\n      <td>8706-3809-5167-3899</td>\n      <td>Premium</td>\n      <td>144000</td>\n      <td>CC32532</td>\n    </tr>\n    <tr>\n      <th>498</th>\n      <td>9540-8558-5897-5046</td>\n      <td>Premium</td>\n      <td>830000</td>\n      <td>CC90246</td>\n    </tr>\n    <tr>\n      <th>499</th>\n      <td>5587-7265-8118-7718</td>\n      <td>Gold</td>\n      <td>24000</td>\n      <td>CC37803</td>\n    </tr>\n  </tbody>\n</table>\n<p>500 rows × 4 columns</p>\n</div>"
     },
     "execution_count": 61,
     "metadata": {},
     "output_type": "execute_result"
    }
   ],
   "source": [
    "# Subset the left table\n",
    "cards_in_both = card[in_both]\n",
    "cards_in_both"
   ],
   "metadata": {
    "collapsed": false
   }
  },
  {
   "cell_type": "markdown",
   "source": [
    "## Question 5\n",
    "### Read in hat_observations and split observation into two columns, hat_colour and hat_type.\n",
    "\n",
    "### Hint: Look up the pandas documentation for .str.split()"
   ],
   "metadata": {
    "collapsed": false
   }
  },
  {
   "cell_type": "code",
   "execution_count": 63,
   "outputs": [
    {
     "data": {
      "text/plain": "    day  month  year        observation  observation_count\n0    25     10  2019        black,beret                  7\n1    11      9  2019       blue,top hat                 10\n2     4     12  2018    green,santa hat                  9\n3    18      6  2018        white,beret                  9\n4    26      9  2018    black,santa hat                  1\n..  ...    ...   ...                ...                ...\n95   15      8  2018  purple,bucket hat                  8\n96   26      1  2018   green,bowler hat                  5\n97   15     11  2018      black,top hat                  7\n98   14      9  2019       green,helmet                  4\n99    1     10  2018        blue,fedora                  4\n\n[100 rows x 5 columns]",
      "text/html": "<div>\n<style scoped>\n    .dataframe tbody tr th:only-of-type {\n        vertical-align: middle;\n    }\n\n    .dataframe tbody tr th {\n        vertical-align: top;\n    }\n\n    .dataframe thead th {\n        text-align: right;\n    }\n</style>\n<table border=\"1\" class=\"dataframe\">\n  <thead>\n    <tr style=\"text-align: right;\">\n      <th></th>\n      <th>day</th>\n      <th>month</th>\n      <th>year</th>\n      <th>observation</th>\n      <th>observation_count</th>\n    </tr>\n  </thead>\n  <tbody>\n    <tr>\n      <th>0</th>\n      <td>25</td>\n      <td>10</td>\n      <td>2019</td>\n      <td>black,beret</td>\n      <td>7</td>\n    </tr>\n    <tr>\n      <th>1</th>\n      <td>11</td>\n      <td>9</td>\n      <td>2019</td>\n      <td>blue,top hat</td>\n      <td>10</td>\n    </tr>\n    <tr>\n      <th>2</th>\n      <td>4</td>\n      <td>12</td>\n      <td>2018</td>\n      <td>green,santa hat</td>\n      <td>9</td>\n    </tr>\n    <tr>\n      <th>3</th>\n      <td>18</td>\n      <td>6</td>\n      <td>2018</td>\n      <td>white,beret</td>\n      <td>9</td>\n    </tr>\n    <tr>\n      <th>4</th>\n      <td>26</td>\n      <td>9</td>\n      <td>2018</td>\n      <td>black,santa hat</td>\n      <td>1</td>\n    </tr>\n    <tr>\n      <th>...</th>\n      <td>...</td>\n      <td>...</td>\n      <td>...</td>\n      <td>...</td>\n      <td>...</td>\n    </tr>\n    <tr>\n      <th>95</th>\n      <td>15</td>\n      <td>8</td>\n      <td>2018</td>\n      <td>purple,bucket hat</td>\n      <td>8</td>\n    </tr>\n    <tr>\n      <th>96</th>\n      <td>26</td>\n      <td>1</td>\n      <td>2018</td>\n      <td>green,bowler hat</td>\n      <td>5</td>\n    </tr>\n    <tr>\n      <th>97</th>\n      <td>15</td>\n      <td>11</td>\n      <td>2018</td>\n      <td>black,top hat</td>\n      <td>7</td>\n    </tr>\n    <tr>\n      <th>98</th>\n      <td>14</td>\n      <td>9</td>\n      <td>2019</td>\n      <td>green,helmet</td>\n      <td>4</td>\n    </tr>\n    <tr>\n      <th>99</th>\n      <td>1</td>\n      <td>10</td>\n      <td>2018</td>\n      <td>blue,fedora</td>\n      <td>4</td>\n    </tr>\n  </tbody>\n</table>\n<p>100 rows × 5 columns</p>\n</div>"
     },
     "execution_count": 63,
     "metadata": {},
     "output_type": "execute_result"
    }
   ],
   "source": [
    "hats = pd.read_csv(\"data/hat_observations.csv\")\n",
    "hats"
   ],
   "metadata": {
    "collapsed": false
   }
  },
  {
   "cell_type": "code",
   "execution_count": 80,
   "outputs": [
    {
     "data": {
      "text/plain": "    day  month  year        observation  observation_count hat_colour  \\\n0    25     10  2019        black,beret                  7      black   \n1    11      9  2019       blue,top hat                 10       blue   \n2     4     12  2018    green,santa hat                  9      green   \n3    18      6  2018        white,beret                  9      white   \n4    26      9  2018    black,santa hat                  1      black   \n..  ...    ...   ...                ...                ...        ...   \n95   15      8  2018  purple,bucket hat                  8     purple   \n96   26      1  2018   green,bowler hat                  5      green   \n97   15     11  2018      black,top hat                  7      black   \n98   14      9  2019       green,helmet                  4      green   \n99    1     10  2018        blue,fedora                  4       blue   \n\n      hat_type  \n0        beret  \n1      top hat  \n2    santa hat  \n3        beret  \n4    santa hat  \n..         ...  \n95  bucket hat  \n96  bowler hat  \n97     top hat  \n98      helmet  \n99      fedora  \n\n[100 rows x 7 columns]",
      "text/html": "<div>\n<style scoped>\n    .dataframe tbody tr th:only-of-type {\n        vertical-align: middle;\n    }\n\n    .dataframe tbody tr th {\n        vertical-align: top;\n    }\n\n    .dataframe thead th {\n        text-align: right;\n    }\n</style>\n<table border=\"1\" class=\"dataframe\">\n  <thead>\n    <tr style=\"text-align: right;\">\n      <th></th>\n      <th>day</th>\n      <th>month</th>\n      <th>year</th>\n      <th>observation</th>\n      <th>observation_count</th>\n      <th>hat_colour</th>\n      <th>hat_type</th>\n    </tr>\n  </thead>\n  <tbody>\n    <tr>\n      <th>0</th>\n      <td>25</td>\n      <td>10</td>\n      <td>2019</td>\n      <td>black,beret</td>\n      <td>7</td>\n      <td>black</td>\n      <td>beret</td>\n    </tr>\n    <tr>\n      <th>1</th>\n      <td>11</td>\n      <td>9</td>\n      <td>2019</td>\n      <td>blue,top hat</td>\n      <td>10</td>\n      <td>blue</td>\n      <td>top hat</td>\n    </tr>\n    <tr>\n      <th>2</th>\n      <td>4</td>\n      <td>12</td>\n      <td>2018</td>\n      <td>green,santa hat</td>\n      <td>9</td>\n      <td>green</td>\n      <td>santa hat</td>\n    </tr>\n    <tr>\n      <th>3</th>\n      <td>18</td>\n      <td>6</td>\n      <td>2018</td>\n      <td>white,beret</td>\n      <td>9</td>\n      <td>white</td>\n      <td>beret</td>\n    </tr>\n    <tr>\n      <th>4</th>\n      <td>26</td>\n      <td>9</td>\n      <td>2018</td>\n      <td>black,santa hat</td>\n      <td>1</td>\n      <td>black</td>\n      <td>santa hat</td>\n    </tr>\n    <tr>\n      <th>...</th>\n      <td>...</td>\n      <td>...</td>\n      <td>...</td>\n      <td>...</td>\n      <td>...</td>\n      <td>...</td>\n      <td>...</td>\n    </tr>\n    <tr>\n      <th>95</th>\n      <td>15</td>\n      <td>8</td>\n      <td>2018</td>\n      <td>purple,bucket hat</td>\n      <td>8</td>\n      <td>purple</td>\n      <td>bucket hat</td>\n    </tr>\n    <tr>\n      <th>96</th>\n      <td>26</td>\n      <td>1</td>\n      <td>2018</td>\n      <td>green,bowler hat</td>\n      <td>5</td>\n      <td>green</td>\n      <td>bowler hat</td>\n    </tr>\n    <tr>\n      <th>97</th>\n      <td>15</td>\n      <td>11</td>\n      <td>2018</td>\n      <td>black,top hat</td>\n      <td>7</td>\n      <td>black</td>\n      <td>top hat</td>\n    </tr>\n    <tr>\n      <th>98</th>\n      <td>14</td>\n      <td>9</td>\n      <td>2019</td>\n      <td>green,helmet</td>\n      <td>4</td>\n      <td>green</td>\n      <td>helmet</td>\n    </tr>\n    <tr>\n      <th>99</th>\n      <td>1</td>\n      <td>10</td>\n      <td>2018</td>\n      <td>blue,fedora</td>\n      <td>4</td>\n      <td>blue</td>\n      <td>fedora</td>\n    </tr>\n  </tbody>\n</table>\n<p>100 rows × 7 columns</p>\n</div>"
     },
     "execution_count": 80,
     "metadata": {},
     "output_type": "execute_result"
    }
   ],
   "source": [
    "hats[\"hat_colour\"], hats[\"hat_type\"] = hats[\"observation\"].str.split(\",\", n = 1, expand = True).T.to_numpy()\n",
    "hats"
   ],
   "metadata": {
    "collapsed": false
   }
  },
  {
   "cell_type": "code",
   "execution_count": 85,
   "outputs": [
    {
     "data": {
      "text/plain": "    day  month  year  observation_count hat_colour    hat_type\n0    25     10  2019                  7      black       beret\n1    11      9  2019                 10       blue     top hat\n2     4     12  2018                  9      green   santa hat\n3    18      6  2018                  9      white       beret\n4    26      9  2018                  1      black   santa hat\n..  ...    ...   ...                ...        ...         ...\n95   15      8  2018                  8     purple  bucket hat\n96   26      1  2018                  5      green  bowler hat\n97   15     11  2018                  7      black     top hat\n98   14      9  2019                  4      green      helmet\n99    1     10  2018                  4       blue      fedora\n\n[100 rows x 6 columns]",
      "text/html": "<div>\n<style scoped>\n    .dataframe tbody tr th:only-of-type {\n        vertical-align: middle;\n    }\n\n    .dataframe tbody tr th {\n        vertical-align: top;\n    }\n\n    .dataframe thead th {\n        text-align: right;\n    }\n</style>\n<table border=\"1\" class=\"dataframe\">\n  <thead>\n    <tr style=\"text-align: right;\">\n      <th></th>\n      <th>day</th>\n      <th>month</th>\n      <th>year</th>\n      <th>observation_count</th>\n      <th>hat_colour</th>\n      <th>hat_type</th>\n    </tr>\n  </thead>\n  <tbody>\n    <tr>\n      <th>0</th>\n      <td>25</td>\n      <td>10</td>\n      <td>2019</td>\n      <td>7</td>\n      <td>black</td>\n      <td>beret</td>\n    </tr>\n    <tr>\n      <th>1</th>\n      <td>11</td>\n      <td>9</td>\n      <td>2019</td>\n      <td>10</td>\n      <td>blue</td>\n      <td>top hat</td>\n    </tr>\n    <tr>\n      <th>2</th>\n      <td>4</td>\n      <td>12</td>\n      <td>2018</td>\n      <td>9</td>\n      <td>green</td>\n      <td>santa hat</td>\n    </tr>\n    <tr>\n      <th>3</th>\n      <td>18</td>\n      <td>6</td>\n      <td>2018</td>\n      <td>9</td>\n      <td>white</td>\n      <td>beret</td>\n    </tr>\n    <tr>\n      <th>4</th>\n      <td>26</td>\n      <td>9</td>\n      <td>2018</td>\n      <td>1</td>\n      <td>black</td>\n      <td>santa hat</td>\n    </tr>\n    <tr>\n      <th>...</th>\n      <td>...</td>\n      <td>...</td>\n      <td>...</td>\n      <td>...</td>\n      <td>...</td>\n      <td>...</td>\n    </tr>\n    <tr>\n      <th>95</th>\n      <td>15</td>\n      <td>8</td>\n      <td>2018</td>\n      <td>8</td>\n      <td>purple</td>\n      <td>bucket hat</td>\n    </tr>\n    <tr>\n      <th>96</th>\n      <td>26</td>\n      <td>1</td>\n      <td>2018</td>\n      <td>5</td>\n      <td>green</td>\n      <td>bowler hat</td>\n    </tr>\n    <tr>\n      <th>97</th>\n      <td>15</td>\n      <td>11</td>\n      <td>2018</td>\n      <td>7</td>\n      <td>black</td>\n      <td>top hat</td>\n    </tr>\n    <tr>\n      <th>98</th>\n      <td>14</td>\n      <td>9</td>\n      <td>2019</td>\n      <td>4</td>\n      <td>green</td>\n      <td>helmet</td>\n    </tr>\n    <tr>\n      <th>99</th>\n      <td>1</td>\n      <td>10</td>\n      <td>2018</td>\n      <td>4</td>\n      <td>blue</td>\n      <td>fedora</td>\n    </tr>\n  </tbody>\n</table>\n<p>100 rows × 6 columns</p>\n</div>"
     },
     "execution_count": 85,
     "metadata": {},
     "output_type": "execute_result"
    }
   ],
   "source": [
    "split_hats = hats.drop(columns=[\"observation\"])\n",
    "split_hats"
   ],
   "metadata": {
    "collapsed": false
   }
  },
  {
   "cell_type": "markdown",
   "source": [
    "## Question 6\n",
    "### Unite day, month, and year columns into a column called date using a suitable separator. Then find the date where the most berets were observed.\n",
    "\n",
    "### Hints:\n",
    "### - you can use the .agg() function to combine columns\n",
    "### - you may need to convert the data types of the columns you wish to combine\n"
   ],
   "metadata": {
    "collapsed": false
   }
  },
  {
   "cell_type": "code",
   "execution_count": 91,
   "outputs": [],
   "source": [
    "split_hats[\"date\"] = pd.to_datetime(split_hats[[\"year\", \"month\", \"day\"]])"
   ],
   "metadata": {
    "collapsed": false
   }
  },
  {
   "cell_type": "code",
   "execution_count": 92,
   "outputs": [
    {
     "data": {
      "text/plain": "    day  month  year  observation_count hat_colour    hat_type       date\n0    25     10  2019                  7      black       beret 2019-10-25\n1    11      9  2019                 10       blue     top hat 2019-09-11\n2     4     12  2018                  9      green   santa hat 2018-12-04\n3    18      6  2018                  9      white       beret 2018-06-18\n4    26      9  2018                  1      black   santa hat 2018-09-26\n..  ...    ...   ...                ...        ...         ...        ...\n95   15      8  2018                  8     purple  bucket hat 2018-08-15\n96   26      1  2018                  5      green  bowler hat 2018-01-26\n97   15     11  2018                  7      black     top hat 2018-11-15\n98   14      9  2019                  4      green      helmet 2019-09-14\n99    1     10  2018                  4       blue      fedora 2018-10-01\n\n[100 rows x 7 columns]",
      "text/html": "<div>\n<style scoped>\n    .dataframe tbody tr th:only-of-type {\n        vertical-align: middle;\n    }\n\n    .dataframe tbody tr th {\n        vertical-align: top;\n    }\n\n    .dataframe thead th {\n        text-align: right;\n    }\n</style>\n<table border=\"1\" class=\"dataframe\">\n  <thead>\n    <tr style=\"text-align: right;\">\n      <th></th>\n      <th>day</th>\n      <th>month</th>\n      <th>year</th>\n      <th>observation_count</th>\n      <th>hat_colour</th>\n      <th>hat_type</th>\n      <th>date</th>\n    </tr>\n  </thead>\n  <tbody>\n    <tr>\n      <th>0</th>\n      <td>25</td>\n      <td>10</td>\n      <td>2019</td>\n      <td>7</td>\n      <td>black</td>\n      <td>beret</td>\n      <td>2019-10-25</td>\n    </tr>\n    <tr>\n      <th>1</th>\n      <td>11</td>\n      <td>9</td>\n      <td>2019</td>\n      <td>10</td>\n      <td>blue</td>\n      <td>top hat</td>\n      <td>2019-09-11</td>\n    </tr>\n    <tr>\n      <th>2</th>\n      <td>4</td>\n      <td>12</td>\n      <td>2018</td>\n      <td>9</td>\n      <td>green</td>\n      <td>santa hat</td>\n      <td>2018-12-04</td>\n    </tr>\n    <tr>\n      <th>3</th>\n      <td>18</td>\n      <td>6</td>\n      <td>2018</td>\n      <td>9</td>\n      <td>white</td>\n      <td>beret</td>\n      <td>2018-06-18</td>\n    </tr>\n    <tr>\n      <th>4</th>\n      <td>26</td>\n      <td>9</td>\n      <td>2018</td>\n      <td>1</td>\n      <td>black</td>\n      <td>santa hat</td>\n      <td>2018-09-26</td>\n    </tr>\n    <tr>\n      <th>...</th>\n      <td>...</td>\n      <td>...</td>\n      <td>...</td>\n      <td>...</td>\n      <td>...</td>\n      <td>...</td>\n      <td>...</td>\n    </tr>\n    <tr>\n      <th>95</th>\n      <td>15</td>\n      <td>8</td>\n      <td>2018</td>\n      <td>8</td>\n      <td>purple</td>\n      <td>bucket hat</td>\n      <td>2018-08-15</td>\n    </tr>\n    <tr>\n      <th>96</th>\n      <td>26</td>\n      <td>1</td>\n      <td>2018</td>\n      <td>5</td>\n      <td>green</td>\n      <td>bowler hat</td>\n      <td>2018-01-26</td>\n    </tr>\n    <tr>\n      <th>97</th>\n      <td>15</td>\n      <td>11</td>\n      <td>2018</td>\n      <td>7</td>\n      <td>black</td>\n      <td>top hat</td>\n      <td>2018-11-15</td>\n    </tr>\n    <tr>\n      <th>98</th>\n      <td>14</td>\n      <td>9</td>\n      <td>2019</td>\n      <td>4</td>\n      <td>green</td>\n      <td>helmet</td>\n      <td>2019-09-14</td>\n    </tr>\n    <tr>\n      <th>99</th>\n      <td>1</td>\n      <td>10</td>\n      <td>2018</td>\n      <td>4</td>\n      <td>blue</td>\n      <td>fedora</td>\n      <td>2018-10-01</td>\n    </tr>\n  </tbody>\n</table>\n<p>100 rows × 7 columns</p>\n</div>"
     },
     "execution_count": 92,
     "metadata": {},
     "output_type": "execute_result"
    }
   ],
   "source": [
    "split_hats"
   ],
   "metadata": {
    "collapsed": false
   }
  },
  {
   "cell_type": "code",
   "execution_count": 94,
   "outputs": [
    {
     "data": {
      "text/plain": "    observation_count hat_colour    hat_type       date\n0                   7      black       beret 2019-10-25\n1                  10       blue     top hat 2019-09-11\n2                   9      green   santa hat 2018-12-04\n3                   9      white       beret 2018-06-18\n4                   1      black   santa hat 2018-09-26\n..                ...        ...         ...        ...\n95                  8     purple  bucket hat 2018-08-15\n96                  5      green  bowler hat 2018-01-26\n97                  7      black     top hat 2018-11-15\n98                  4      green      helmet 2019-09-14\n99                  4       blue      fedora 2018-10-01\n\n[100 rows x 4 columns]",
      "text/html": "<div>\n<style scoped>\n    .dataframe tbody tr th:only-of-type {\n        vertical-align: middle;\n    }\n\n    .dataframe tbody tr th {\n        vertical-align: top;\n    }\n\n    .dataframe thead th {\n        text-align: right;\n    }\n</style>\n<table border=\"1\" class=\"dataframe\">\n  <thead>\n    <tr style=\"text-align: right;\">\n      <th></th>\n      <th>observation_count</th>\n      <th>hat_colour</th>\n      <th>hat_type</th>\n      <th>date</th>\n    </tr>\n  </thead>\n  <tbody>\n    <tr>\n      <th>0</th>\n      <td>7</td>\n      <td>black</td>\n      <td>beret</td>\n      <td>2019-10-25</td>\n    </tr>\n    <tr>\n      <th>1</th>\n      <td>10</td>\n      <td>blue</td>\n      <td>top hat</td>\n      <td>2019-09-11</td>\n    </tr>\n    <tr>\n      <th>2</th>\n      <td>9</td>\n      <td>green</td>\n      <td>santa hat</td>\n      <td>2018-12-04</td>\n    </tr>\n    <tr>\n      <th>3</th>\n      <td>9</td>\n      <td>white</td>\n      <td>beret</td>\n      <td>2018-06-18</td>\n    </tr>\n    <tr>\n      <th>4</th>\n      <td>1</td>\n      <td>black</td>\n      <td>santa hat</td>\n      <td>2018-09-26</td>\n    </tr>\n    <tr>\n      <th>...</th>\n      <td>...</td>\n      <td>...</td>\n      <td>...</td>\n      <td>...</td>\n    </tr>\n    <tr>\n      <th>95</th>\n      <td>8</td>\n      <td>purple</td>\n      <td>bucket hat</td>\n      <td>2018-08-15</td>\n    </tr>\n    <tr>\n      <th>96</th>\n      <td>5</td>\n      <td>green</td>\n      <td>bowler hat</td>\n      <td>2018-01-26</td>\n    </tr>\n    <tr>\n      <th>97</th>\n      <td>7</td>\n      <td>black</td>\n      <td>top hat</td>\n      <td>2018-11-15</td>\n    </tr>\n    <tr>\n      <th>98</th>\n      <td>4</td>\n      <td>green</td>\n      <td>helmet</td>\n      <td>2019-09-14</td>\n    </tr>\n    <tr>\n      <th>99</th>\n      <td>4</td>\n      <td>blue</td>\n      <td>fedora</td>\n      <td>2018-10-01</td>\n    </tr>\n  </tbody>\n</table>\n<p>100 rows × 4 columns</p>\n</div>"
     },
     "execution_count": 94,
     "metadata": {},
     "output_type": "execute_result"
    }
   ],
   "source": [
    "split_hats_with_date = split_hats.drop(columns=[\"day\", \"month\", \"year\"])\n",
    "split_hats_with_date"
   ],
   "metadata": {
    "collapsed": false
   }
  }
 ],
 "metadata": {
  "kernelspec": {
   "display_name": "Python 3 (ipykernel)",
   "language": "python",
   "name": "python3"
  },
  "language_info": {
   "codemirror_mode": {
    "name": "ipython",
    "version": 3
   },
   "file_extension": ".py",
   "mimetype": "text/x-python",
   "name": "python",
   "nbconvert_exporter": "python",
   "pygments_lexer": "ipython3",
   "version": "3.9.12"
  },
  "varInspector": {
   "cols": {
    "lenName": 16,
    "lenType": 16,
    "lenVar": 40
   },
   "kernels_config": {
    "python": {
     "delete_cmd_postfix": "",
     "delete_cmd_prefix": "del ",
     "library": "var_list.py",
     "varRefreshCmd": "print(var_dic_list())"
    },
    "r": {
     "delete_cmd_postfix": ") ",
     "delete_cmd_prefix": "rm(",
     "library": "var_list.r",
     "varRefreshCmd": "cat(var_dic_list()) "
    }
   },
   "types_to_exclude": [
    "module",
    "function",
    "builtin_function_or_method",
    "instance",
    "_Feature"
   ],
   "window_display": false
  }
 },
 "nbformat": 4,
 "nbformat_minor": 5
}
